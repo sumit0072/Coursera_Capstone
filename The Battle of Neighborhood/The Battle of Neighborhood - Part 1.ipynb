{
 "cells": [
  {
   "cell_type": "markdown",
   "metadata": {},
   "source": [
    "<h1>The Battle of Neighborhood | Part 1</h1>"
   ]
  },
  {
   "cell_type": "markdown",
   "metadata": {},
   "source": [
    "<h2>Introduction</h2>\n",
    "<p>For many shoppers, visiting shopping malls is a great way to relax and enjoy themselves during weekends and holidays. They can shop grocery and various fashion outlets, dine at restaurants, watch movies and perform many more activities. Shopping malls are like one-stop destination for all types of shoppers. For retailers, the central location and the large crowed at the shopping malls provides a great distribution channel to market their products and services. Property developers are also taking advantage of this trend to build more shopping malls to cater to the demand. As a result, there are many shopping malls in the city of Kuala Lumpur and many more are being built. Opening shopping malls allows property developers to earn consistent rental income. Of course, as with any business decision, opening a new shopping mall requires serious consideration and is a lot more complicated than it seems. Particularly, the location of the shopping mall is one of the most important decisions that will determine whether the mall be a success or a failure.</p>"
   ]
  },
  {
   "cell_type": "markdown",
   "metadata": {},
   "source": [
    "<h2>Business Problem</h2>\n",
    "<p>The objective of this capstone project is to analyze and select the best locations in the city of Kuala Lumpur, Malaysia to open new shopping mall. Using data science methodology and machine learning techniques like clustering, this project aims to provide solutions to answer the business question : In the city of Kuala Lumpur, Malaysia, if a property developer is looking to open a new shopping mall, where would you recommend that they open it ?</p>"
   ]
  },
  {
   "cell_type": "markdown",
   "metadata": {},
   "source": [
    "<h3>Target Audience of this project</h3>\n",
    "<p>This project is particularly useful to property developers and investors to open or invest in new shopping malls in the capital city of Malaysia i.e. Kuala Lumpur. This project is timely as the city is currently suffering from oversupply of shopping malls. Data from the National Property Information Center (NPIC) released last year showed that an additional 15 per cent will be added to existing mall space and the agency predicted that total occupancy may dip below 86 per cent. The local newspaper The Malay Mail also reported in March last year that the true occupancy rates in malls may be as low as 40 per cent in some areas, quoting a Financial Times (FT) article cataloging the country's continued obsession with building more shopping space despite chronic oversupply.</p>"
   ]
  },
  {
   "cell_type": "markdown",
   "metadata": {},
   "source": [
    "<h2>Data Description</h2>\n",
    "<h4>To solve the problem, we will need the following data : </h4>\n",
    "<blockquote>\n",
    "    <ul>\n",
    "        <li>List of neighborhoods in Kuala Lumpur. This defines the scope of this project which is confined to the city of Kuala Lumpur, the capital city of the country of Malaysia in the South East Asia.</li>\n",
    "        <li>Latitude and Longitude coordinates of those neighborhoods. This is required in order to plot the map and also to get the venue data.</li>\n",
    "        <li>Venue data, particularly data related to shopping malls. We will use this data to perform clustering on the neighborhoods.</li>\n",
    "    </ul>\n",
    "</blockquote>\n",
    "\n",
    "<h4>Sources of data and methods to extract them</h4>\n",
    "<p>The <a href='https://en.wikipedia.org/wiki/Category:Suburbs_in_Kuala_Lumpur'>Wikipedia page</a> contains a list of neighborhoods in Kuala Lumpur, with a total of 71 neighborhoods. We will use web scrapping techniques to extract the data from Wikipedia page, with the help of Python 'requests' and 'beautifulsoup' libraries. Then we will get the geographical coordinates of the neighborhoods using Python 'Geocoder' library which will give us the latitude and longitude coordinates of the neighborhoods.</p>\n",
    "\n",
    "<p>The output shows the final dataset. The dataset consists of a single dataframe with 3 columns containing 'Neighbohood', 'Latitude' and 'Longitude'. 'Neighborhood' column contains the Federal Territory of Kuala lumpur.</p>"
   ]
  },
  {
   "cell_type": "markdown",
   "metadata": {},
   "source": [
    "<h3>Import Libraries</h3>"
   ]
  },
  {
   "cell_type": "code",
   "execution_count": 1,
   "metadata": {},
   "outputs": [
    {
     "name": "stdout",
     "output_type": "stream",
     "text": [
      "Requirement already satisfied: geocoder in c:\\users\\lenovo\\anaconda3\\lib\\site-packages (1.38.1)\n",
      "Requirement already satisfied: future in c:\\users\\lenovo\\anaconda3\\lib\\site-packages (from geocoder) (0.18.2)\n",
      "Requirement already satisfied: click in c:\\users\\lenovo\\anaconda3\\lib\\site-packages (from geocoder) (7.1.2)\n",
      "Requirement already satisfied: ratelim in c:\\users\\lenovo\\anaconda3\\lib\\site-packages (from geocoder) (0.1.6)\n",
      "Requirement already satisfied: six in c:\\users\\lenovo\\anaconda3\\lib\\site-packages (from geocoder) (1.15.0)\n",
      "Requirement already satisfied: requests in c:\\users\\lenovo\\anaconda3\\lib\\site-packages (from geocoder) (2.25.0)\n",
      "Requirement already satisfied: decorator in c:\\users\\lenovo\\anaconda3\\lib\\site-packages (from ratelim->geocoder) (4.4.2)\n",
      "Requirement already satisfied: certifi>=2017.4.17 in c:\\users\\lenovo\\anaconda3\\lib\\site-packages (from requests->geocoder) (2020.12.5)\n",
      "Requirement already satisfied: urllib3<1.27,>=1.21.1 in c:\\users\\lenovo\\anaconda3\\lib\\site-packages (from requests->geocoder) (1.25.11)\n",
      "Requirement already satisfied: idna<3,>=2.5 in c:\\users\\lenovo\\anaconda3\\lib\\site-packages (from requests->geocoder) (2.10)\n",
      "Requirement already satisfied: chardet<4,>=3.0.2 in c:\\users\\lenovo\\anaconda3\\lib\\site-packages (from requests->geocoder) (3.0.4)\n",
      "\n",
      "Libraries imported.\n"
     ]
    }
   ],
   "source": [
    "import numpy as np # library to handle data in a vectorized manner\n",
    "\n",
    "import pandas as pd # library for data analsysis\n",
    "pd.set_option(\"display.max_columns\", None)\n",
    "pd.set_option(\"display.max_rows\", None)\n",
    "\n",
    "!pip install geocoder\n",
    "import geocoder # to get coordinates\n",
    "\n",
    "import requests # library to handle requests\n",
    "from bs4 import BeautifulSoup # library to parse HTML and XML documents\n",
    "\n",
    "print(\"\\nLibraries imported.\")"
   ]
  },
  {
   "cell_type": "markdown",
   "metadata": {},
   "source": [
    "<h3>Scrap data from Wikipedia page into a DataFrame</h3>"
   ]
  },
  {
   "cell_type": "code",
   "execution_count": 2,
   "metadata": {},
   "outputs": [],
   "source": [
    "# send the GET request\n",
    "data = requests.get(\"https://en.wikipedia.org/wiki/Category:Suburbs_in_Kuala_Lumpur\").text\n",
    "\n",
    "# parse data from the html into a beautifulsoup object\n",
    "soup = BeautifulSoup(data, 'html.parser')"
   ]
  },
  {
   "cell_type": "code",
   "execution_count": 3,
   "metadata": {},
   "outputs": [],
   "source": [
    "# create a list to store neighborhood data\n",
    "neighborhoodlist = []\n",
    "\n",
    "# append the data into the list\n",
    "for row in soup.find_all(\"div\", class_=\"mw-category\")[0].findAll(\"li\"):\n",
    "    neighborhoodlist.append(row.text)"
   ]
  },
  {
   "cell_type": "code",
   "execution_count": 4,
   "metadata": {},
   "outputs": [
    {
     "data": {
      "text/html": [
       "<div>\n",
       "<style scoped>\n",
       "    .dataframe tbody tr th:only-of-type {\n",
       "        vertical-align: middle;\n",
       "    }\n",
       "\n",
       "    .dataframe tbody tr th {\n",
       "        vertical-align: top;\n",
       "    }\n",
       "\n",
       "    .dataframe thead th {\n",
       "        text-align: right;\n",
       "    }\n",
       "</style>\n",
       "<table border=\"1\" class=\"dataframe\">\n",
       "  <thead>\n",
       "    <tr style=\"text-align: right;\">\n",
       "      <th></th>\n",
       "      <th>Neighborhood</th>\n",
       "    </tr>\n",
       "  </thead>\n",
       "  <tbody>\n",
       "    <tr>\n",
       "      <th>0</th>\n",
       "      <td>Alam Damai</td>\n",
       "    </tr>\n",
       "    <tr>\n",
       "      <th>1</th>\n",
       "      <td>Ampang, Kuala Lumpur</td>\n",
       "    </tr>\n",
       "    <tr>\n",
       "      <th>2</th>\n",
       "      <td>Bandar Menjalara</td>\n",
       "    </tr>\n",
       "    <tr>\n",
       "      <th>3</th>\n",
       "      <td>Bandar Sri Permaisuri</td>\n",
       "    </tr>\n",
       "    <tr>\n",
       "      <th>4</th>\n",
       "      <td>Bandar Tasik Selatan</td>\n",
       "    </tr>\n",
       "  </tbody>\n",
       "</table>\n",
       "</div>"
      ],
      "text/plain": [
       "            Neighborhood\n",
       "0             Alam Damai\n",
       "1   Ampang, Kuala Lumpur\n",
       "2       Bandar Menjalara\n",
       "3  Bandar Sri Permaisuri\n",
       "4   Bandar Tasik Selatan"
      ]
     },
     "execution_count": 4,
     "metadata": {},
     "output_type": "execute_result"
    }
   ],
   "source": [
    "# create a new DataFrame from the list\n",
    "kuala_lumpur_df = pd.DataFrame({\"Neighborhood\": neighborhoodlist})\n",
    "\n",
    "kuala_lumpur_df.head()"
   ]
  },
  {
   "cell_type": "code",
   "execution_count": 5,
   "metadata": {},
   "outputs": [
    {
     "data": {
      "text/plain": [
       "(71, 1)"
      ]
     },
     "execution_count": 5,
     "metadata": {},
     "output_type": "execute_result"
    }
   ],
   "source": [
    "# print the number of rows of the dataframe\n",
    "kuala_lumpur_df.shape"
   ]
  },
  {
   "cell_type": "markdown",
   "metadata": {},
   "source": [
    "<h3>Get the geographical coordinates</h3>"
   ]
  },
  {
   "cell_type": "code",
   "execution_count": 6,
   "metadata": {},
   "outputs": [],
   "source": [
    "# define a function to get coordinates\n",
    "def get_latlng(neighborhood):\n",
    "    # initialize your variable to None\n",
    "    lat_lng_coords = None\n",
    "    # loop until you get the coordinates\n",
    "    while(lat_lng_coords is None):\n",
    "        g = geocoder.arcgis('{}, Kuala Lumpur, Malaysia'.format(neighborhood))\n",
    "        lat_lng_coords = g.latlng\n",
    "    return lat_lng_coords"
   ]
  },
  {
   "cell_type": "code",
   "execution_count": 7,
   "metadata": {},
   "outputs": [],
   "source": [
    "# call the function to get the coordinates, store in a new list using list comprehension\n",
    "co_ords = [ get_latlng(neighborhood) for neighborhood in kuala_lumpur_df[\"Neighborhood\"].tolist() ]"
   ]
  },
  {
   "cell_type": "code",
   "execution_count": 8,
   "metadata": {},
   "outputs": [
    {
     "data": {
      "text/plain": [
       "[[3.0576900000000364, 101.74388000000005],\n",
       " [3.1484988508598852, 101.69672774991264],\n",
       " [3.1903500000000236, 101.62545000000006],\n",
       " [3.1039100000000417, 101.71226000000007],\n",
       " [3.072750000000042, 101.71461000000005]]"
      ]
     },
     "execution_count": 8,
     "metadata": {},
     "output_type": "execute_result"
    }
   ],
   "source": [
    "co_ords[:5]"
   ]
  },
  {
   "cell_type": "code",
   "execution_count": 9,
   "metadata": {},
   "outputs": [
    {
     "data": {
      "text/html": [
       "<div>\n",
       "<style scoped>\n",
       "    .dataframe tbody tr th:only-of-type {\n",
       "        vertical-align: middle;\n",
       "    }\n",
       "\n",
       "    .dataframe tbody tr th {\n",
       "        vertical-align: top;\n",
       "    }\n",
       "\n",
       "    .dataframe thead th {\n",
       "        text-align: right;\n",
       "    }\n",
       "</style>\n",
       "<table border=\"1\" class=\"dataframe\">\n",
       "  <thead>\n",
       "    <tr style=\"text-align: right;\">\n",
       "      <th></th>\n",
       "      <th>Latitude</th>\n",
       "      <th>Longitude</th>\n",
       "    </tr>\n",
       "  </thead>\n",
       "  <tbody>\n",
       "    <tr>\n",
       "      <th>0</th>\n",
       "      <td>3.057690</td>\n",
       "      <td>101.743880</td>\n",
       "    </tr>\n",
       "    <tr>\n",
       "      <th>1</th>\n",
       "      <td>3.148499</td>\n",
       "      <td>101.696728</td>\n",
       "    </tr>\n",
       "    <tr>\n",
       "      <th>2</th>\n",
       "      <td>3.190350</td>\n",
       "      <td>101.625450</td>\n",
       "    </tr>\n",
       "    <tr>\n",
       "      <th>3</th>\n",
       "      <td>3.103910</td>\n",
       "      <td>101.712260</td>\n",
       "    </tr>\n",
       "    <tr>\n",
       "      <th>4</th>\n",
       "      <td>3.072750</td>\n",
       "      <td>101.714610</td>\n",
       "    </tr>\n",
       "  </tbody>\n",
       "</table>\n",
       "</div>"
      ],
      "text/plain": [
       "   Latitude   Longitude\n",
       "0  3.057690  101.743880\n",
       "1  3.148499  101.696728\n",
       "2  3.190350  101.625450\n",
       "3  3.103910  101.712260\n",
       "4  3.072750  101.714610"
      ]
     },
     "execution_count": 9,
     "metadata": {},
     "output_type": "execute_result"
    }
   ],
   "source": [
    "# create temporary dataframe to populate the coordinates into Latitude and Longitude\n",
    "df_coords = pd.DataFrame(co_ords, columns=['Latitude', 'Longitude'])\n",
    "df_coords.head()"
   ]
  },
  {
   "cell_type": "code",
   "execution_count": 10,
   "metadata": {},
   "outputs": [
    {
     "name": "stdout",
     "output_type": "stream",
     "text": [
      "(71, 3)\n"
     ]
    },
    {
     "data": {
      "text/html": [
       "<div>\n",
       "<style scoped>\n",
       "    .dataframe tbody tr th:only-of-type {\n",
       "        vertical-align: middle;\n",
       "    }\n",
       "\n",
       "    .dataframe tbody tr th {\n",
       "        vertical-align: top;\n",
       "    }\n",
       "\n",
       "    .dataframe thead th {\n",
       "        text-align: right;\n",
       "    }\n",
       "</style>\n",
       "<table border=\"1\" class=\"dataframe\">\n",
       "  <thead>\n",
       "    <tr style=\"text-align: right;\">\n",
       "      <th></th>\n",
       "      <th>Neighborhood</th>\n",
       "      <th>Latitude</th>\n",
       "      <th>Longitude</th>\n",
       "    </tr>\n",
       "  </thead>\n",
       "  <tbody>\n",
       "    <tr>\n",
       "      <th>0</th>\n",
       "      <td>Alam Damai</td>\n",
       "      <td>3.057690</td>\n",
       "      <td>101.743880</td>\n",
       "    </tr>\n",
       "    <tr>\n",
       "      <th>1</th>\n",
       "      <td>Ampang, Kuala Lumpur</td>\n",
       "      <td>3.148499</td>\n",
       "      <td>101.696728</td>\n",
       "    </tr>\n",
       "    <tr>\n",
       "      <th>2</th>\n",
       "      <td>Bandar Menjalara</td>\n",
       "      <td>3.190350</td>\n",
       "      <td>101.625450</td>\n",
       "    </tr>\n",
       "    <tr>\n",
       "      <th>3</th>\n",
       "      <td>Bandar Sri Permaisuri</td>\n",
       "      <td>3.103910</td>\n",
       "      <td>101.712260</td>\n",
       "    </tr>\n",
       "    <tr>\n",
       "      <th>4</th>\n",
       "      <td>Bandar Tasik Selatan</td>\n",
       "      <td>3.072750</td>\n",
       "      <td>101.714610</td>\n",
       "    </tr>\n",
       "    <tr>\n",
       "      <th>5</th>\n",
       "      <td>Bandar Tun Razak</td>\n",
       "      <td>3.082760</td>\n",
       "      <td>101.722810</td>\n",
       "    </tr>\n",
       "    <tr>\n",
       "      <th>6</th>\n",
       "      <td>Bangsar</td>\n",
       "      <td>3.129200</td>\n",
       "      <td>101.678440</td>\n",
       "    </tr>\n",
       "    <tr>\n",
       "      <th>7</th>\n",
       "      <td>Bangsar Park</td>\n",
       "      <td>3.129200</td>\n",
       "      <td>101.678440</td>\n",
       "    </tr>\n",
       "    <tr>\n",
       "      <th>8</th>\n",
       "      <td>Bangsar South</td>\n",
       "      <td>3.111020</td>\n",
       "      <td>101.662830</td>\n",
       "    </tr>\n",
       "    <tr>\n",
       "      <th>9</th>\n",
       "      <td>Batu 11 Cheras</td>\n",
       "      <td>3.061870</td>\n",
       "      <td>101.746750</td>\n",
       "    </tr>\n",
       "  </tbody>\n",
       "</table>\n",
       "</div>"
      ],
      "text/plain": [
       "            Neighborhood  Latitude   Longitude\n",
       "0             Alam Damai  3.057690  101.743880\n",
       "1   Ampang, Kuala Lumpur  3.148499  101.696728\n",
       "2       Bandar Menjalara  3.190350  101.625450\n",
       "3  Bandar Sri Permaisuri  3.103910  101.712260\n",
       "4   Bandar Tasik Selatan  3.072750  101.714610\n",
       "5       Bandar Tun Razak  3.082760  101.722810\n",
       "6                Bangsar  3.129200  101.678440\n",
       "7           Bangsar Park  3.129200  101.678440\n",
       "8          Bangsar South  3.111020  101.662830\n",
       "9         Batu 11 Cheras  3.061870  101.746750"
      ]
     },
     "execution_count": 10,
     "metadata": {},
     "output_type": "execute_result"
    }
   ],
   "source": [
    "# merge the coordinates into the original dataframe\n",
    "kuala_lumpur_df['Latitude'] = df_coords['Latitude']\n",
    "kuala_lumpur_df['Longitude'] = df_coords['Longitude']\n",
    "\n",
    "# check the neighborhoods and the coordinates\n",
    "print(kuala_lumpur_df.shape)\n",
    "kuala_lumpur_df.head(10)"
   ]
  },
  {
   "cell_type": "code",
   "execution_count": 11,
   "metadata": {},
   "outputs": [],
   "source": [
    "# save the DataFrame as CSV file\n",
    "kuala_lumpur_df.to_csv(\"Kuala_Lumpur.csv\", index=False)"
   ]
  }
 ],
 "metadata": {
  "kernelspec": {
   "display_name": "Python 3",
   "language": "python",
   "name": "python3"
  },
  "language_info": {
   "codemirror_mode": {
    "name": "ipython",
    "version": 3
   },
   "file_extension": ".py",
   "mimetype": "text/x-python",
   "name": "python",
   "nbconvert_exporter": "python",
   "pygments_lexer": "ipython3",
   "version": "3.8.5"
  }
 },
 "nbformat": 4,
 "nbformat_minor": 4
}
